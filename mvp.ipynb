{
 "cells": [
  {
   "cell_type": "code",
   "execution_count": null,
   "id": "c9a2547b",
   "metadata": {},
   "outputs": [],
   "source": [
    "import pandas as pd\n",
    "import matplotlib.pyplot as plt\n",
    "import seaborn as sns\n",
    "sns.set_style(\"white\")"
   ]
  },
  {
   "cell_type": "markdown",
   "id": "ee55d3a1",
   "metadata": {},
   "source": [
    "# Carga y limpieza de datos"
   ]
  },
  {
   "cell_type": "code",
   "execution_count": null,
   "id": "d6de6550",
   "metadata": {},
   "outputs": [],
   "source": [
    "raw_data = pd.read_csv('./data/ventas.csv', encoding='utf-8', sep=',')"
   ]
  },
  {
   "cell_type": "code",
   "execution_count": null,
   "id": "3a034677",
   "metadata": {},
   "outputs": [],
   "source": [
    "raw_data.info()"
   ]
  },
  {
   "cell_type": "code",
   "execution_count": null,
   "id": "a96acbda",
   "metadata": {},
   "outputs": [],
   "source": [
    "# Corrigiendo formato de fecha\n",
    "raw_data['fecha'] = pd.to_datetime(raw_data['fecha'], format='%Y-%m-%d')"
   ]
  },
  {
   "cell_type": "code",
   "execution_count": null,
   "id": "9a0a66e3",
   "metadata": {},
   "outputs": [],
   "source": [
    "raw_data.describe()"
   ]
  },
  {
   "cell_type": "code",
   "execution_count": null,
   "id": "d4355208",
   "metadata": {},
   "outputs": [],
   "source": [
    "raw_data.value_counts('producto')"
   ]
  },
  {
   "cell_type": "code",
   "execution_count": null,
   "id": "fc5a746d",
   "metadata": {},
   "outputs": [],
   "source": [
    "for product in raw_data['producto'].unique():\n",
    "    print(\"Métricas para el producto:\", product)\n",
    "    print(raw_data[raw_data['producto'] == product].describe())\n",
    "    print(\"\\n\")"
   ]
  },
  {
   "cell_type": "code",
   "execution_count": null,
   "id": "febe8a45",
   "metadata": {},
   "outputs": [],
   "source": [
    "# Se verifica que no exista productos duplicados en una misma fecha, no tendría sentido que exista más de una vez el mismo producto en una misma fecha a menos que el precio unitario sea diferente.\n",
    "raw_data[raw_data.duplicated(subset=['fecha'], keep=False)].sort_values(by='fecha')"
   ]
  },
  {
   "cell_type": "markdown",
   "id": "d227a75e",
   "metadata": {},
   "source": [
    "Se verifica que la data es consistente y no presenta valores nulos o fuera de lo común.\n",
    "De igual forma se aplican los filtro necesarios para evitar que en data futura se presenten errores."
   ]
  },
  {
   "cell_type": "code",
   "execution_count": null,
   "id": "adbcd0d4",
   "metadata": {},
   "outputs": [],
   "source": [
    "data_cleaned = raw_data[(raw_data['cantidad'] > 0) & (raw_data['precio_unitario'] > 0)]\n",
    "data_cleaned.dropna(inplace=True)"
   ]
  },
  {
   "cell_type": "code",
   "execution_count": null,
   "id": "9ba22060",
   "metadata": {},
   "outputs": [],
   "source": [
    "# Creando la columna 'total' para el total de ventas de cada producto para su respectiva fecha\n",
    "data_cleaned['total'] = data_cleaned['cantidad'] * data_cleaned['precio_unitario']"
   ]
  },
  {
   "cell_type": "code",
   "execution_count": null,
   "id": "6cea8981",
   "metadata": {},
   "outputs": [],
   "source": [
    "data_cleaned.sort_values(by='fecha', inplace=True)"
   ]
  },
  {
   "cell_type": "code",
   "execution_count": null,
   "id": "fa52546b",
   "metadata": {},
   "outputs": [],
   "source": [
    "data_cleaned.info()"
   ]
  },
  {
   "cell_type": "code",
   "execution_count": null,
   "id": "b9a7e8f1",
   "metadata": {},
   "outputs": [],
   "source": [
    "data_cleaned.to_csv('data/data_cleaned.csv', index=False)"
   ]
  },
  {
   "cell_type": "markdown",
   "id": "ca5fd84c",
   "metadata": {},
   "source": [
    "# Análisis"
   ]
  },
  {
   "cell_type": "markdown",
   "id": "0cf2c253",
   "metadata": {},
   "source": [
    "**(a) Producto más vendido (en cantidad de unidades):**"
   ]
  },
  {
   "cell_type": "code",
   "execution_count": null,
   "id": "0f3a7704",
   "metadata": {},
   "outputs": [],
   "source": [
    "data_cleaned.groupby('producto')['cantidad'].sum().sort_values(ascending=False)"
   ]
  },
  {
   "cell_type": "markdown",
   "id": "44a3b9ac",
   "metadata": {},
   "source": [
    "**(b) Producto más vendido (en valor total):**"
   ]
  },
  {
   "cell_type": "code",
   "execution_count": null,
   "id": "655a0d1d",
   "metadata": {},
   "outputs": [],
   "source": [
    "data_cleaned.groupby('producto')['total'].sum().sort_values(ascending=False)"
   ]
  },
  {
   "cell_type": "markdown",
   "id": "999b379e",
   "metadata": {},
   "source": [
    "**(c) Facturación total por mes:**"
   ]
  },
  {
   "cell_type": "code",
   "execution_count": null,
   "id": "b15c96b6",
   "metadata": {},
   "outputs": [],
   "source": [
    "data_cleaned.groupby(data_cleaned['fecha'].dt.to_period('M'))['total'].sum()"
   ]
  },
  {
   "cell_type": "markdown",
   "id": "97adf7ff",
   "metadata": {},
   "source": [
    "# Visualizaciones"
   ]
  },
  {
   "cell_type": "code",
   "execution_count": null,
   "id": "e2394cb2",
   "metadata": {},
   "outputs": [],
   "source": [
    "facturacion_por_producto = data_cleaned.groupby('producto')['total'].sum().sort_values(ascending=False)\n",
    "sns.barplot(data=facturacion_por_producto.reset_index(), x='producto', y='total');"
   ]
  },
  {
   "cell_type": "code",
   "execution_count": null,
   "id": "83bf3ef0",
   "metadata": {},
   "outputs": [],
   "source": [
    "facturacion_mensual = data_cleaned.groupby(data_cleaned['fecha'].dt.to_period('M'))['total'].sum()\n",
    "sns.barplot(data=facturacion_mensual.reset_index(), x='fecha', y='total')\n",
    "plt.title(\"Facturación total por mes\")\n",
    "plt.xlabel(\"Mes\")\n",
    "plt.ylabel(\"Facturación Total\")\n",
    "plt.savefig('output/grafico_mvp.png')"
   ]
  },
  {
   "cell_type": "code",
   "execution_count": null,
   "id": "715c1907",
   "metadata": {},
   "outputs": [],
   "source": [
    "facturacion_mensual_producto = data_cleaned.groupby([data_cleaned['fecha'].dt.to_period('M'), 'producto'])['total'].sum()\n",
    "facturacion_mensual_producto = facturacion_mensual_producto.reset_index()\n",
    "facturacion_mensual_producto['fecha'] = facturacion_mensual_producto['fecha'].dt.to_timestamp()\n",
    "facturacion_mensual_producto"
   ]
  },
  {
   "cell_type": "code",
   "execution_count": null,
   "id": "5949be57",
   "metadata": {},
   "outputs": [],
   "source": [
    "sns.lineplot(data=facturacion_mensual_producto, x='fecha', y='total', hue='producto');"
   ]
  },
  {
   "cell_type": "markdown",
   "id": "42ea5777",
   "metadata": {},
   "source": [
    "# Preparación DB"
   ]
  },
  {
   "cell_type": "code",
   "execution_count": null,
   "id": "0cac39e1",
   "metadata": {},
   "outputs": [],
   "source": [
    "reporte_productos = data_cleaned.groupby('producto').agg(total_cantidad=('cantidad', 'sum'), total_facturado=('total', 'sum'))\n",
    "reporte_productos"
   ]
  },
  {
   "cell_type": "code",
   "execution_count": null,
   "id": "361fcb9f",
   "metadata": {},
   "outputs": [],
   "source": [
    "import sqlite3\n",
    "try:\n",
    "    # Creando conexión a la base de datos SQLite\n",
    "    conn = sqlite3.connect('output/db_test.db')\n",
    "    # Guardando el dataframe en la base de datos\n",
    "    reporte_productos.to_sql('reporte_productos', conn, if_exists='replace', index=False)\n",
    "    print(\"Prueba exitosa: La tabla 'reporte_productos' se guardó exitosamente.\")\n",
    "\n",
    "    # Verificando que los datos se guardaron correctamente\n",
    "    test_db = pd.read_sql('SELECT * FROM reporte_productos', conn)\n",
    "    print(test_db.head())\n",
    "    conn.close()\n",
    "\n",
    "except Exception as e:\n",
    "    print(f\"Ocurrió un error durante la prueba de base de datos: {e}\")"
   ]
  }
 ],
 "metadata": {
  "kernelspec": {
   "display_name": "desafio-ventas",
   "language": "python",
   "name": "python3"
  },
  "language_info": {
   "codemirror_mode": {
    "name": "ipython",
    "version": 3
   },
   "file_extension": ".py",
   "mimetype": "text/x-python",
   "name": "python",
   "nbconvert_exporter": "python",
   "pygments_lexer": "ipython3",
   "version": "3.11.13"
  }
 },
 "nbformat": 4,
 "nbformat_minor": 5
}
