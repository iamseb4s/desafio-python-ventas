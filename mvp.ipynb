{
 "cells": [
  {
   "cell_type": "code",
   "execution_count": 1,
   "id": "c9a2547b",
   "metadata": {},
   "outputs": [],
   "source": [
    "import pandas as pd\n",
    "import matplotlib.pyplot as plt\n",
    "import seaborn as sns\n",
    "sns.set_style(\"white\")"
   ]
  },
  {
   "cell_type": "markdown",
   "id": "ee55d3a1",
   "metadata": {},
   "source": [
    "# Carga y limpieza de datos"
   ]
  },
  {
   "cell_type": "code",
   "execution_count": 2,
   "id": "d6de6550",
   "metadata": {},
   "outputs": [],
   "source": [
    "raw_data = pd.read_csv('./data/ventas.csv', encoding='utf-8', sep=',')"
   ]
  },
  {
   "cell_type": "code",
   "execution_count": 3,
   "id": "3a034677",
   "metadata": {},
   "outputs": [
    {
     "name": "stdout",
     "output_type": "stream",
     "text": [
      "<class 'pandas.core.frame.DataFrame'>\n",
      "RangeIndex: 50 entries, 0 to 49\n",
      "Data columns (total 4 columns):\n",
      " #   Column           Non-Null Count  Dtype \n",
      "---  ------           --------------  ----- \n",
      " 0   fecha            50 non-null     object\n",
      " 1   producto         50 non-null     object\n",
      " 2   cantidad         50 non-null     int64 \n",
      " 3   precio_unitario  50 non-null     int64 \n",
      "dtypes: int64(2), object(2)\n",
      "memory usage: 1.7+ KB\n"
     ]
    }
   ],
   "source": [
    "raw_data.info()"
   ]
  },
  {
   "cell_type": "code",
   "execution_count": 4,
   "id": "a96acbda",
   "metadata": {},
   "outputs": [],
   "source": [
    "# Corrigiendo formato de fecha\n",
    "raw_data['fecha'] = pd.to_datetime(raw_data['fecha'], format='%Y-%m-%d')"
   ]
  },
  {
   "cell_type": "code",
   "execution_count": 5,
   "id": "9a0a66e3",
   "metadata": {},
   "outputs": [
    {
     "data": {
      "application/vnd.microsoft.datawrangler.viewer.v0+json": {
       "columns": [
        {
         "name": "index",
         "rawType": "object",
         "type": "string"
        },
        {
         "name": "fecha",
         "rawType": "object",
         "type": "unknown"
        },
        {
         "name": "cantidad",
         "rawType": "float64",
         "type": "float"
        },
        {
         "name": "precio_unitario",
         "rawType": "float64",
         "type": "float"
        }
       ],
       "ref": "46117c60-acba-465a-97d1-e9005ef78882",
       "rows": [
        [
         "count",
         "50",
         "50.0",
         "50.0"
        ],
        [
         "mean",
         "2023-03-27 11:31:12",
         "5.38",
         "42790.0"
        ],
        [
         "min",
         "2023-01-02 00:00:00",
         "1.0",
         "19990.0"
        ],
        [
         "25%",
         "2023-02-10 06:00:00",
         "2.25",
         "19990.0"
        ],
        [
         "50%",
         "2023-03-20 12:00:00",
         "6.0",
         "29990.0"
        ],
        [
         "75%",
         "2023-05-15 06:00:00",
         "8.0",
         "49990.0"
        ],
        [
         "max",
         "2023-06-30 00:00:00",
         "10.0",
         "99990.0"
        ],
        [
         "std",
         null,
         "2.9269333397790605",
         "27850.915054765348"
        ]
       ],
       "shape": {
        "columns": 3,
        "rows": 8
       }
      },
      "text/html": [
       "<div>\n",
       "<style scoped>\n",
       "    .dataframe tbody tr th:only-of-type {\n",
       "        vertical-align: middle;\n",
       "    }\n",
       "\n",
       "    .dataframe tbody tr th {\n",
       "        vertical-align: top;\n",
       "    }\n",
       "\n",
       "    .dataframe thead th {\n",
       "        text-align: right;\n",
       "    }\n",
       "</style>\n",
       "<table border=\"1\" class=\"dataframe\">\n",
       "  <thead>\n",
       "    <tr style=\"text-align: right;\">\n",
       "      <th></th>\n",
       "      <th>fecha</th>\n",
       "      <th>cantidad</th>\n",
       "      <th>precio_unitario</th>\n",
       "    </tr>\n",
       "  </thead>\n",
       "  <tbody>\n",
       "    <tr>\n",
       "      <th>count</th>\n",
       "      <td>50</td>\n",
       "      <td>50.000000</td>\n",
       "      <td>50.000000</td>\n",
       "    </tr>\n",
       "    <tr>\n",
       "      <th>mean</th>\n",
       "      <td>2023-03-27 11:31:12</td>\n",
       "      <td>5.380000</td>\n",
       "      <td>42790.000000</td>\n",
       "    </tr>\n",
       "    <tr>\n",
       "      <th>min</th>\n",
       "      <td>2023-01-02 00:00:00</td>\n",
       "      <td>1.000000</td>\n",
       "      <td>19990.000000</td>\n",
       "    </tr>\n",
       "    <tr>\n",
       "      <th>25%</th>\n",
       "      <td>2023-02-10 06:00:00</td>\n",
       "      <td>2.250000</td>\n",
       "      <td>19990.000000</td>\n",
       "    </tr>\n",
       "    <tr>\n",
       "      <th>50%</th>\n",
       "      <td>2023-03-20 12:00:00</td>\n",
       "      <td>6.000000</td>\n",
       "      <td>29990.000000</td>\n",
       "    </tr>\n",
       "    <tr>\n",
       "      <th>75%</th>\n",
       "      <td>2023-05-15 06:00:00</td>\n",
       "      <td>8.000000</td>\n",
       "      <td>49990.000000</td>\n",
       "    </tr>\n",
       "    <tr>\n",
       "      <th>max</th>\n",
       "      <td>2023-06-30 00:00:00</td>\n",
       "      <td>10.000000</td>\n",
       "      <td>99990.000000</td>\n",
       "    </tr>\n",
       "    <tr>\n",
       "      <th>std</th>\n",
       "      <td>NaN</td>\n",
       "      <td>2.926933</td>\n",
       "      <td>27850.915055</td>\n",
       "    </tr>\n",
       "  </tbody>\n",
       "</table>\n",
       "</div>"
      ],
      "text/plain": [
       "                     fecha   cantidad  precio_unitario\n",
       "count                   50  50.000000        50.000000\n",
       "mean   2023-03-27 11:31:12   5.380000     42790.000000\n",
       "min    2023-01-02 00:00:00   1.000000     19990.000000\n",
       "25%    2023-02-10 06:00:00   2.250000     19990.000000\n",
       "50%    2023-03-20 12:00:00   6.000000     29990.000000\n",
       "75%    2023-05-15 06:00:00   8.000000     49990.000000\n",
       "max    2023-06-30 00:00:00  10.000000     99990.000000\n",
       "std                    NaN   2.926933     27850.915055"
      ]
     },
     "execution_count": 5,
     "metadata": {},
     "output_type": "execute_result"
    }
   ],
   "source": [
    "raw_data.describe()"
   ]
  },
  {
   "cell_type": "code",
   "execution_count": 6,
   "id": "d4355208",
   "metadata": {},
   "outputs": [
    {
     "data": {
      "application/vnd.microsoft.datawrangler.viewer.v0+json": {
       "columns": [
        {
         "name": "producto",
         "rawType": "object",
         "type": "string"
        },
        {
         "name": "count",
         "rawType": "int64",
         "type": "integer"
        }
       ],
       "ref": "b188207e-2414-4fc9-b197-abb19de65982",
       "rows": [
        [
         "Monitor",
         "12"
        ],
        [
         "Impresora",
         "11"
        ],
        [
         "Teclado",
         "11"
        ],
        [
         "Mouse",
         "8"
        ],
        [
         "Notebook",
         "8"
        ]
       ],
       "shape": {
        "columns": 1,
        "rows": 5
       }
      },
      "text/plain": [
       "producto\n",
       "Monitor      12\n",
       "Impresora    11\n",
       "Teclado      11\n",
       "Mouse         8\n",
       "Notebook      8\n",
       "Name: count, dtype: int64"
      ]
     },
     "execution_count": 6,
     "metadata": {},
     "output_type": "execute_result"
    }
   ],
   "source": [
    "raw_data.value_counts('producto')"
   ]
  },
  {
   "cell_type": "code",
   "execution_count": 7,
   "id": "fc5a746d",
   "metadata": {},
   "outputs": [
    {
     "name": "stdout",
     "output_type": "stream",
     "text": [
      "Métricas para el producto: Monitor\n",
      "                     fecha   cantidad  precio_unitario\n",
      "count                   12  12.000000        12.000000\n",
      "mean   2023-03-18 02:00:00   5.000000     46656.666667\n",
      "min    2023-01-23 00:00:00   1.000000     19990.000000\n",
      "25%    2023-02-04 00:00:00   2.000000     19990.000000\n",
      "50%    2023-02-21 12:00:00   5.000000     29990.000000\n",
      "75%    2023-05-12 06:00:00   7.500000     62490.000000\n",
      "max    2023-06-22 00:00:00  10.000000     99990.000000\n",
      "std                    NaN   3.357488     33933.982253\n",
      "\n",
      "\n",
      "Métricas para el producto: Mouse\n",
      "                     fecha  cantidad  precio_unitario\n",
      "count                    8  8.000000         8.000000\n",
      "mean   2023-03-11 12:00:00  5.250000     39990.000000\n",
      "min    2023-01-12 00:00:00  1.000000     19990.000000\n",
      "25%    2023-02-04 18:00:00  3.500000     19990.000000\n",
      "50%    2023-02-27 12:00:00  4.500000     29990.000000\n",
      "75%    2023-04-04 06:00:00  8.250000     49990.000000\n",
      "max    2023-06-26 00:00:00  9.000000     99990.000000\n",
      "std                    NaN  3.105295     27255.405755\n",
      "\n",
      "\n",
      "Métricas para el producto: Notebook\n",
      "                     fecha   cantidad  precio_unitario\n",
      "count                    8   8.000000         8.000000\n",
      "mean   2023-04-14 21:00:00   6.000000     52490.000000\n",
      "min    2023-02-02 00:00:00   1.000000     29990.000000\n",
      "25%    2023-03-01 12:00:00   5.500000     29990.000000\n",
      "50%    2023-04-25 00:00:00   6.000000     39990.000000\n",
      "75%    2023-05-21 18:00:00   7.250000     62490.000000\n",
      "max    2023-06-26 00:00:00  10.000000     99990.000000\n",
      "std                    NaN   2.672612     30589.447293\n",
      "\n",
      "\n",
      "Métricas para el producto: Teclado\n",
      "                     fecha   cantidad  precio_unitario\n",
      "count                   11  11.000000        11.000000\n",
      "mean   2023-04-01 00:00:00   6.272727     33626.363636\n",
      "min    2023-01-02 00:00:00   1.000000     19990.000000\n",
      "25%    2023-02-16 12:00:00   5.000000     19990.000000\n",
      "50%    2023-03-28 00:00:00   7.000000     19990.000000\n",
      "75%    2023-05-19 00:00:00   8.000000     39990.000000\n",
      "max    2023-06-06 00:00:00  10.000000     99990.000000\n",
      "std                    NaN   3.036146     25009.089257\n",
      "\n",
      "\n",
      "Métricas para el producto: Impresora\n",
      "                               fecha   cantidad  precio_unitario\n",
      "count                             11  11.000000        11.000000\n",
      "mean   2023-03-31 10:54:32.727272704   4.545455     42717.272727\n",
      "min              2023-01-15 00:00:00   1.000000     19990.000000\n",
      "25%              2023-03-06 12:00:00   2.500000     24990.000000\n",
      "50%              2023-03-31 00:00:00   5.000000     49990.000000\n",
      "75%              2023-04-22 00:00:00   6.000000     49990.000000\n",
      "max              2023-06-30 00:00:00   9.000000     99990.000000\n",
      "std                              NaN   2.544156     23276.988246\n",
      "\n",
      "\n"
     ]
    }
   ],
   "source": [
    "for product in raw_data['producto'].unique():\n",
    "    print(\"Métricas para el producto:\", product)\n",
    "    print(raw_data[raw_data['producto'] == product].describe())\n",
    "    print(\"\\n\")"
   ]
  },
  {
   "cell_type": "code",
   "execution_count": 8,
   "id": "febe8a45",
   "metadata": {},
   "outputs": [
    {
     "data": {
      "application/vnd.microsoft.datawrangler.viewer.v0+json": {
       "columns": [
        {
         "name": "index",
         "rawType": "int64",
         "type": "integer"
        },
        {
         "name": "fecha",
         "rawType": "datetime64[ns]",
         "type": "datetime"
        },
        {
         "name": "producto",
         "rawType": "object",
         "type": "string"
        },
        {
         "name": "cantidad",
         "rawType": "int64",
         "type": "integer"
        },
        {
         "name": "precio_unitario",
         "rawType": "int64",
         "type": "integer"
        }
       ],
       "ref": "5d325a0f-c904-4e96-a9c9-4da1b3394503",
       "rows": [
        [
         "5",
         "2023-03-06 00:00:00",
         "Mouse",
         "1",
         "19990"
        ],
        [
         "33",
         "2023-03-06 00:00:00",
         "Teclado",
         "1",
         "19990"
        ],
        [
         "43",
         "2023-03-31 00:00:00",
         "Impresora",
         "3",
         "49990"
        ],
        [
         "49",
         "2023-03-31 00:00:00",
         "Mouse",
         "8",
         "29990"
        ],
        [
         "3",
         "2023-05-24 00:00:00",
         "Notebook",
         "8",
         "29990"
        ],
        [
         "41",
         "2023-05-24 00:00:00",
         "Monitor",
         "1",
         "99990"
        ],
        [
         "7",
         "2023-06-26 00:00:00",
         "Notebook",
         "4",
         "29990"
        ],
        [
         "25",
         "2023-06-26 00:00:00",
         "Mouse",
         "9",
         "49990"
        ]
       ],
       "shape": {
        "columns": 4,
        "rows": 8
       }
      },
      "text/html": [
       "<div>\n",
       "<style scoped>\n",
       "    .dataframe tbody tr th:only-of-type {\n",
       "        vertical-align: middle;\n",
       "    }\n",
       "\n",
       "    .dataframe tbody tr th {\n",
       "        vertical-align: top;\n",
       "    }\n",
       "\n",
       "    .dataframe thead th {\n",
       "        text-align: right;\n",
       "    }\n",
       "</style>\n",
       "<table border=\"1\" class=\"dataframe\">\n",
       "  <thead>\n",
       "    <tr style=\"text-align: right;\">\n",
       "      <th></th>\n",
       "      <th>fecha</th>\n",
       "      <th>producto</th>\n",
       "      <th>cantidad</th>\n",
       "      <th>precio_unitario</th>\n",
       "    </tr>\n",
       "  </thead>\n",
       "  <tbody>\n",
       "    <tr>\n",
       "      <th>5</th>\n",
       "      <td>2023-03-06</td>\n",
       "      <td>Mouse</td>\n",
       "      <td>1</td>\n",
       "      <td>19990</td>\n",
       "    </tr>\n",
       "    <tr>\n",
       "      <th>33</th>\n",
       "      <td>2023-03-06</td>\n",
       "      <td>Teclado</td>\n",
       "      <td>1</td>\n",
       "      <td>19990</td>\n",
       "    </tr>\n",
       "    <tr>\n",
       "      <th>43</th>\n",
       "      <td>2023-03-31</td>\n",
       "      <td>Impresora</td>\n",
       "      <td>3</td>\n",
       "      <td>49990</td>\n",
       "    </tr>\n",
       "    <tr>\n",
       "      <th>49</th>\n",
       "      <td>2023-03-31</td>\n",
       "      <td>Mouse</td>\n",
       "      <td>8</td>\n",
       "      <td>29990</td>\n",
       "    </tr>\n",
       "    <tr>\n",
       "      <th>3</th>\n",
       "      <td>2023-05-24</td>\n",
       "      <td>Notebook</td>\n",
       "      <td>8</td>\n",
       "      <td>29990</td>\n",
       "    </tr>\n",
       "    <tr>\n",
       "      <th>41</th>\n",
       "      <td>2023-05-24</td>\n",
       "      <td>Monitor</td>\n",
       "      <td>1</td>\n",
       "      <td>99990</td>\n",
       "    </tr>\n",
       "    <tr>\n",
       "      <th>7</th>\n",
       "      <td>2023-06-26</td>\n",
       "      <td>Notebook</td>\n",
       "      <td>4</td>\n",
       "      <td>29990</td>\n",
       "    </tr>\n",
       "    <tr>\n",
       "      <th>25</th>\n",
       "      <td>2023-06-26</td>\n",
       "      <td>Mouse</td>\n",
       "      <td>9</td>\n",
       "      <td>49990</td>\n",
       "    </tr>\n",
       "  </tbody>\n",
       "</table>\n",
       "</div>"
      ],
      "text/plain": [
       "        fecha   producto  cantidad  precio_unitario\n",
       "5  2023-03-06      Mouse         1            19990\n",
       "33 2023-03-06    Teclado         1            19990\n",
       "43 2023-03-31  Impresora         3            49990\n",
       "49 2023-03-31      Mouse         8            29990\n",
       "3  2023-05-24   Notebook         8            29990\n",
       "41 2023-05-24    Monitor         1            99990\n",
       "7  2023-06-26   Notebook         4            29990\n",
       "25 2023-06-26      Mouse         9            49990"
      ]
     },
     "execution_count": 8,
     "metadata": {},
     "output_type": "execute_result"
    }
   ],
   "source": [
    "# Se verifica que no exista productos duplicados en una misma fecha, no tendría sentido que exista más de una vez el mismo producto en una misma fecha a menos que el precio unitario sea diferente.\n",
    "raw_data[raw_data.duplicated(subset=['fecha'], keep=False)].sort_values(by='fecha')"
   ]
  },
  {
   "cell_type": "markdown",
   "id": "d227a75e",
   "metadata": {},
   "source": [
    "Se verifica que la data es consistente y no presenta valores nulos o fuera de lo común.\n",
    "De igual forma se aplican los filtro necesarios para evitar que en data futura se presenten errores."
   ]
  },
  {
   "cell_type": "code",
   "execution_count": 9,
   "id": "adbcd0d4",
   "metadata": {},
   "outputs": [],
   "source": [
    "data_cleaned = raw_data[(raw_data['cantidad'] > 0) & (raw_data['precio_unitario'] > 0)]\n",
    "data_cleaned.dropna(inplace=True)"
   ]
  },
  {
   "cell_type": "code",
   "execution_count": 10,
   "id": "9ba22060",
   "metadata": {},
   "outputs": [],
   "source": [
    "# Creando la columna 'total' para el total de ventas de cada producto para su respectiva fecha\n",
    "data_cleaned['total'] = data_cleaned['cantidad'] * data_cleaned['precio_unitario']"
   ]
  },
  {
   "cell_type": "code",
   "execution_count": 11,
   "id": "6cea8981",
   "metadata": {},
   "outputs": [],
   "source": [
    "data_cleaned.sort_values(by='fecha', inplace=True)"
   ]
  },
  {
   "cell_type": "code",
   "execution_count": 12,
   "id": "fa52546b",
   "metadata": {},
   "outputs": [
    {
     "name": "stdout",
     "output_type": "stream",
     "text": [
      "<class 'pandas.core.frame.DataFrame'>\n",
      "Index: 50 entries, 24 to 8\n",
      "Data columns (total 5 columns):\n",
      " #   Column           Non-Null Count  Dtype         \n",
      "---  ------           --------------  -----         \n",
      " 0   fecha            50 non-null     datetime64[ns]\n",
      " 1   producto         50 non-null     object        \n",
      " 2   cantidad         50 non-null     int64         \n",
      " 3   precio_unitario  50 non-null     int64         \n",
      " 4   total            50 non-null     int64         \n",
      "dtypes: datetime64[ns](1), int64(3), object(1)\n",
      "memory usage: 2.3+ KB\n"
     ]
    }
   ],
   "source": [
    "data_cleaned.info()"
   ]
  },
  {
   "cell_type": "code",
   "execution_count": 13,
   "id": "b9a7e8f1",
   "metadata": {},
   "outputs": [],
   "source": [
    "data_cleaned.to_csv('data/data_cleaned.csv', index=False)"
   ]
  },
  {
   "cell_type": "markdown",
   "id": "ca5fd84c",
   "metadata": {},
   "source": [
    "# Análisis"
   ]
  },
  {
   "cell_type": "markdown",
   "id": "0cf2c253",
   "metadata": {},
   "source": [
    "**(a) Producto más vendido (en cantidad de unidades):**"
   ]
  },
  {
   "cell_type": "code",
   "execution_count": 14,
   "id": "0f3a7704",
   "metadata": {},
   "outputs": [
    {
     "data": {
      "application/vnd.microsoft.datawrangler.viewer.v0+json": {
       "columns": [
        {
         "name": "producto",
         "rawType": "object",
         "type": "string"
        },
        {
         "name": "cantidad",
         "rawType": "int64",
         "type": "integer"
        }
       ],
       "ref": "b48d2bc9-0520-4c8e-95c8-1a5a0349827e",
       "rows": [
        [
         "Teclado",
         "69"
        ],
        [
         "Monitor",
         "60"
        ],
        [
         "Impresora",
         "50"
        ],
        [
         "Notebook",
         "48"
        ],
        [
         "Mouse",
         "42"
        ]
       ],
       "shape": {
        "columns": 1,
        "rows": 5
       }
      },
      "text/plain": [
       "producto\n",
       "Teclado      69\n",
       "Monitor      60\n",
       "Impresora    50\n",
       "Notebook     48\n",
       "Mouse        42\n",
       "Name: cantidad, dtype: int64"
      ]
     },
     "execution_count": 14,
     "metadata": {},
     "output_type": "execute_result"
    }
   ],
   "source": [
    "data_cleaned.groupby('producto')['cantidad'].sum().sort_values(ascending=False)"
   ]
  },
  {
   "cell_type": "markdown",
   "id": "44a3b9ac",
   "metadata": {},
   "source": [
    "**(b) Producto más vendido (en valor total):**"
   ]
  },
  {
   "cell_type": "code",
   "execution_count": 15,
   "id": "655a0d1d",
   "metadata": {},
   "outputs": [
    {
     "data": {
      "application/vnd.microsoft.datawrangler.viewer.v0+json": {
       "columns": [
        {
         "name": "producto",
         "rawType": "object",
         "type": "string"
        },
        {
         "name": "total",
         "rawType": "int64",
         "type": "integer"
        }
       ],
       "ref": "ab109d9d-a613-4f52-aa72-61ca7d2c9fd2",
       "rows": [
        [
         "Monitor",
         "2539400"
        ],
        [
         "Teclado",
         "2489310"
        ],
        [
         "Notebook",
         "2239520"
        ],
        [
         "Impresora",
         "2089500"
        ],
        [
         "Mouse",
         "1879580"
        ]
       ],
       "shape": {
        "columns": 1,
        "rows": 5
       }
      },
      "text/plain": [
       "producto\n",
       "Monitor      2539400\n",
       "Teclado      2489310\n",
       "Notebook     2239520\n",
       "Impresora    2089500\n",
       "Mouse        1879580\n",
       "Name: total, dtype: int64"
      ]
     },
     "execution_count": 15,
     "metadata": {},
     "output_type": "execute_result"
    }
   ],
   "source": [
    "data_cleaned.groupby('producto')['total'].sum().sort_values(ascending=False)"
   ]
  },
  {
   "cell_type": "markdown",
   "id": "999b379e",
   "metadata": {},
   "source": [
    "**(c) Facturación total por mes:**"
   ]
  },
  {
   "cell_type": "code",
   "execution_count": 16,
   "id": "b15c96b6",
   "metadata": {},
   "outputs": [
    {
     "data": {
      "application/vnd.microsoft.datawrangler.viewer.v0+json": {
       "columns": [
        {
         "name": "fecha",
         "rawType": "period[M]",
         "type": "unknown"
        },
        {
         "name": "total",
         "rawType": "int64",
         "type": "integer"
        }
       ],
       "ref": "92812582-a985-4ae8-976a-51681792ba21",
       "rows": [
        [
         "2023-01",
         "1689580"
        ],
        [
         "2023-02",
         "1859410"
        ],
        [
         "2023-03",
         "2429500"
        ],
        [
         "2023-04",
         "729840"
        ],
        [
         "2023-05",
         "2739300"
        ],
        [
         "2023-06",
         "1789680"
        ]
       ],
       "shape": {
        "columns": 1,
        "rows": 6
       }
      },
      "text/plain": [
       "fecha\n",
       "2023-01    1689580\n",
       "2023-02    1859410\n",
       "2023-03    2429500\n",
       "2023-04     729840\n",
       "2023-05    2739300\n",
       "2023-06    1789680\n",
       "Freq: M, Name: total, dtype: int64"
      ]
     },
     "execution_count": 16,
     "metadata": {},
     "output_type": "execute_result"
    }
   ],
   "source": [
    "data_cleaned.groupby(data_cleaned['fecha'].dt.to_period('M'))['total'].sum()"
   ]
  },
  {
   "cell_type": "markdown",
   "id": "97adf7ff",
   "metadata": {},
   "source": [
    "# Visualizaciones"
   ]
  },
  {
   "cell_type": "code",
   "execution_count": 17,
   "id": "e2394cb2",
   "metadata": {},
   "outputs": [
    {
     "data": {
      "image/png": "[encoded data removed]",
      "text/plain": [
       "<Figure size 640x480 with 1 Axes>"
      ]
     },
     "metadata": {},
     "output_type": "display_data"
    }
   ],
   "source": [
    "facturacion_por_producto = data_cleaned.groupby('producto')['total'].sum().sort_values(ascending=False)\n",
    "sns.barplot(data=facturacion_por_producto.reset_index(), x='producto', y='total');"
   ]
  },
  {
   "cell_type": "code",
   "execution_count": 18,
   "id": "83bf3ef0",
   "metadata": {},
   "outputs": [
    {
     "data": {
      "image/png": "[encoded data removed]",
      "text/plain": [
       "<Figure size 640x480 with 1 Axes>"
      ]
     },
     "metadata": {},
     "output_type": "display_data"
    }
   ],
   "source": [
    "facturacion_mensual = data_cleaned.groupby(data_cleaned['fecha'].dt.to_period('M'))['total'].sum()\n",
    "sns.barplot(data=facturacion_mensual.reset_index(), x='fecha', y='total')\n",
    "plt.title(\"Facturación total por mes\")\n",
    "plt.xlabel(\"Mes\")\n",
    "plt.ylabel(\"Facturación Total\")\n",
    "plt.savefig('output/grafico_mvp.png')"
   ]
  },
  {
   "cell_type": "code",
   "execution_count": 19,
   "id": "715c1907",
   "metadata": {},
   "outputs": [
    {
     "data": {
      "application/vnd.microsoft.datawrangler.viewer.v0+json": {
       "columns": [
        {
         "name": "index",
         "rawType": "int64",
         "type": "integer"
        },
        {
         "name": "fecha",
         "rawType": "datetime64[ns]",
         "type": "datetime"
        },
        {
         "name": "producto",
         "rawType": "object",
         "type": "string"
        },
        {
         "name": "total",
         "rawType": "int64",
         "type": "integer"
        }
       ],
       "ref": "efc587bb-0acc-4a4a-b031-0e68faa5fbea",
       "rows": [
        [
         "0",
         "2023-01-01 00:00:00",
         "Impresora",
         "239880"
        ],
        [
         "1",
         "2023-01-01 00:00:00",
         "Monitor",
         "519860"
        ],
        [
         "2",
         "2023-01-01 00:00:00",
         "Mouse",
         "579910"
        ],
        [
         "3",
         "2023-01-01 00:00:00",
         "Teclado",
         "349930"
        ],
        [
         "4",
         "2023-02-01 00:00:00",
         "Monitor",
         "569790"
        ],
        [
         "5",
         "2023-02-01 00:00:00",
         "Mouse",
         "509890"
        ],
        [
         "6",
         "2023-02-01 00:00:00",
         "Notebook",
         "479880"
        ],
        [
         "7",
         "2023-02-01 00:00:00",
         "Teclado",
         "299850"
        ],
        [
         "8",
         "2023-03-01 00:00:00",
         "Impresora",
         "1099810"
        ],
        [
         "9",
         "2023-03-01 00:00:00",
         "Monitor",
         "209930"
        ],
        [
         "10",
         "2023-03-01 00:00:00",
         "Mouse",
         "259910"
        ],
        [
         "11",
         "2023-03-01 00:00:00",
         "Notebook",
         "699930"
        ],
        [
         "12",
         "2023-03-01 00:00:00",
         "Teclado",
         "159920"
        ],
        [
         "13",
         "2023-04-01 00:00:00",
         "Impresora",
         "549890"
        ],
        [
         "14",
         "2023-04-01 00:00:00",
         "Mouse",
         "79960"
        ],
        [
         "15",
         "2023-04-01 00:00:00",
         "Notebook",
         "99990"
        ],
        [
         "16",
         "2023-05-01 00:00:00",
         "Impresora",
         "119940"
        ],
        [
         "17",
         "2023-05-01 00:00:00",
         "Monitor",
         "339910"
        ],
        [
         "18",
         "2023-05-01 00:00:00",
         "Notebook",
         "839760"
        ],
        [
         "19",
         "2023-05-01 00:00:00",
         "Teclado",
         "1439690"
        ],
        [
         "20",
         "2023-06-01 00:00:00",
         "Impresora",
         "79980"
        ],
        [
         "21",
         "2023-06-01 00:00:00",
         "Monitor",
         "899910"
        ],
        [
         "22",
         "2023-06-01 00:00:00",
         "Mouse",
         "449910"
        ],
        [
         "23",
         "2023-06-01 00:00:00",
         "Notebook",
         "119960"
        ],
        [
         "24",
         "2023-06-01 00:00:00",
         "Teclado",
         "239920"
        ]
       ],
       "shape": {
        "columns": 3,
        "rows": 25
       }
      },
      "text/html": [
       "<div>\n",
       "<style scoped>\n",
       "    .dataframe tbody tr th:only-of-type {\n",
       "        vertical-align: middle;\n",
       "    }\n",
       "\n",
       "    .dataframe tbody tr th {\n",
       "        vertical-align: top;\n",
       "    }\n",
       "\n",
       "    .dataframe thead th {\n",
       "        text-align: right;\n",
       "    }\n",
       "</style>\n",
       "<table border=\"1\" class=\"dataframe\">\n",
       "  <thead>\n",
       "    <tr style=\"text-align: right;\">\n",
       "      <th></th>\n",
       "      <th>fecha</th>\n",
       "      <th>producto</th>\n",
       "      <th>total</th>\n",
       "    </tr>\n",
       "  </thead>\n",
       "  <tbody>\n",
       "    <tr>\n",
       "      <th>0</th>\n",
       "      <td>2023-01-01</td>\n",
       "      <td>Impresora</td>\n",
       "      <td>239880</td>\n",
       "    </tr>\n",
       "    <tr>\n",
       "      <th>1</th>\n",
       "      <td>2023-01-01</td>\n",
       "      <td>Monitor</td>\n",
       "      <td>519860</td>\n",
       "    </tr>\n",
       "    <tr>\n",
       "      <th>2</th>\n",
       "      <td>2023-01-01</td>\n",
       "      <td>Mouse</td>\n",
       "      <td>579910</td>\n",
       "    </tr>\n",
       "    <tr>\n",
       "      <th>3</th>\n",
       "      <td>2023-01-01</td>\n",
       "      <td>Teclado</td>\n",
       "      <td>349930</td>\n",
       "    </tr>\n",
       "    <tr>\n",
       "      <th>4</th>\n",
       "      <td>2023-02-01</td>\n",
       "      <td>Monitor</td>\n",
       "      <td>569790</td>\n",
       "    </tr>\n",
       "    <tr>\n",
       "      <th>5</th>\n",
       "      <td>2023-02-01</td>\n",
       "      <td>Mouse</td>\n",
       "      <td>509890</td>\n",
       "    </tr>\n",
       "    <tr>\n",
       "      <th>6</th>\n",
       "      <td>2023-02-01</td>\n",
       "      <td>Notebook</td>\n",
       "      <td>479880</td>\n",
       "    </tr>\n",
       "    <tr>\n",
       "      <th>7</th>\n",
       "      <td>2023-02-01</td>\n",
       "      <td>Teclado</td>\n",
       "      <td>299850</td>\n",
       "    </tr>\n",
       "    <tr>\n",
       "      <th>8</th>\n",
       "      <td>2023-03-01</td>\n",
       "      <td>Impresora</td>\n",
       "      <td>1099810</td>\n",
       "    </tr>\n",
       "    <tr>\n",
       "      <th>9</th>\n",
       "      <td>2023-03-01</td>\n",
       "      <td>Monitor</td>\n",
       "      <td>209930</td>\n",
       "    </tr>\n",
       "    <tr>\n",
       "      <th>10</th>\n",
       "      <td>2023-03-01</td>\n",
       "      <td>Mouse</td>\n",
       "      <td>259910</td>\n",
       "    </tr>\n",
       "    <tr>\n",
       "      <th>11</th>\n",
       "      <td>2023-03-01</td>\n",
       "      <td>Notebook</td>\n",
       "      <td>699930</td>\n",
       "    </tr>\n",
       "    <tr>\n",
       "      <th>12</th>\n",
       "      <td>2023-03-01</td>\n",
       "      <td>Teclado</td>\n",
       "      <td>159920</td>\n",
       "    </tr>\n",
       "    <tr>\n",
       "      <th>13</th>\n",
       "      <td>2023-04-01</td>\n",
       "      <td>Impresora</td>\n",
       "      <td>549890</td>\n",
       "    </tr>\n",
       "    <tr>\n",
       "      <th>14</th>\n",
       "      <td>2023-04-01</td>\n",
       "      <td>Mouse</td>\n",
       "      <td>79960</td>\n",
       "    </tr>\n",
       "    <tr>\n",
       "      <th>15</th>\n",
       "      <td>2023-04-01</td>\n",
       "      <td>Notebook</td>\n",
       "      <td>99990</td>\n",
       "    </tr>\n",
       "    <tr>\n",
       "      <th>16</th>\n",
       "      <td>2023-05-01</td>\n",
       "      <td>Impresora</td>\n",
       "      <td>119940</td>\n",
       "    </tr>\n",
       "    <tr>\n",
       "      <th>17</th>\n",
       "      <td>2023-05-01</td>\n",
       "      <td>Monitor</td>\n",
       "      <td>339910</td>\n",
       "    </tr>\n",
       "    <tr>\n",
       "      <th>18</th>\n",
       "      <td>2023-05-01</td>\n",
       "      <td>Notebook</td>\n",
       "      <td>839760</td>\n",
       "    </tr>\n",
       "    <tr>\n",
       "      <th>19</th>\n",
       "      <td>2023-05-01</td>\n",
       "      <td>Teclado</td>\n",
       "      <td>1439690</td>\n",
       "    </tr>\n",
       "    <tr>\n",
       "      <th>20</th>\n",
       "      <td>2023-06-01</td>\n",
       "      <td>Impresora</td>\n",
       "      <td>79980</td>\n",
       "    </tr>\n",
       "    <tr>\n",
       "      <th>21</th>\n",
       "      <td>2023-06-01</td>\n",
       "      <td>Monitor</td>\n",
       "      <td>899910</td>\n",
       "    </tr>\n",
       "    <tr>\n",
       "      <th>22</th>\n",
       "      <td>2023-06-01</td>\n",
       "      <td>Mouse</td>\n",
       "      <td>449910</td>\n",
       "    </tr>\n",
       "    <tr>\n",
       "      <th>23</th>\n",
       "      <td>2023-06-01</td>\n",
       "      <td>Notebook</td>\n",
       "      <td>119960</td>\n",
       "    </tr>\n",
       "    <tr>\n",
       "      <th>24</th>\n",
       "      <td>2023-06-01</td>\n",
       "      <td>Teclado</td>\n",
       "      <td>239920</td>\n",
       "    </tr>\n",
       "  </tbody>\n",
       "</table>\n",
       "</div>"
      ],
      "text/plain": [
       "        fecha   producto    total\n",
       "0  2023-01-01  Impresora   239880\n",
       "1  2023-01-01    Monitor   519860\n",
       "2  2023-01-01      Mouse   579910\n",
       "3  2023-01-01    Teclado   349930\n",
       "4  2023-02-01    Monitor   569790\n",
       "5  2023-02-01      Mouse   509890\n",
       "6  2023-02-01   Notebook   479880\n",
       "7  2023-02-01    Teclado   299850\n",
       "8  2023-03-01  Impresora  1099810\n",
       "9  2023-03-01    Monitor   209930\n",
       "10 2023-03-01      Mouse   259910\n",
       "11 2023-03-01   Notebook   699930\n",
       "12 2023-03-01    Teclado   159920\n",
       "13 2023-04-01  Impresora   549890\n",
       "14 2023-04-01      Mouse    79960\n",
       "15 2023-04-01   Notebook    99990\n",
       "16 2023-05-01  Impresora   119940\n",
       "17 2023-05-01    Monitor   339910\n",
       "18 2023-05-01   Notebook   839760\n",
       "19 2023-05-01    Teclado  1439690\n",
       "20 2023-06-01  Impresora    79980\n",
       "21 2023-06-01    Monitor   899910\n",
       "22 2023-06-01      Mouse   449910\n",
       "23 2023-06-01   Notebook   119960\n",
       "24 2023-06-01    Teclado   239920"
      ]
     },
     "execution_count": 19,
     "metadata": {},
     "output_type": "execute_result"
    }
   ],
   "source": [
    "facturacion_mensual_producto = data_cleaned.groupby([data_cleaned['fecha'].dt.to_period('M'), 'producto'])['total'].sum()\n",
    "facturacion_mensual_producto = facturacion_mensual_producto.reset_index()\n",
    "facturacion_mensual_producto['fecha'] = facturacion_mensual_producto['fecha'].dt.to_timestamp()\n",
    "facturacion_mensual_producto"
   ]
  },
  {
   "cell_type": "code",
   "execution_count": 20,
   "id": "5949be57",
   "metadata": {},
   "outputs": [
    {
     "data": {
      "image/png": "[encoded data removed]",
      "text/plain": [
       "<Figure size 640x480 with 1 Axes>"
      ]
     },
     "metadata": {},
     "output_type": "display_data"
    }
   ],
   "source": [
    "sns.lineplot(data=facturacion_mensual_producto, x='fecha', y='total', hue='producto');"
   ]
  },
  {
   "cell_type": "markdown",
   "id": "42ea5777",
   "metadata": {},
   "source": [
    "# Preparación DB"
   ]
  },
  {
   "cell_type": "code",
   "execution_count": 21,
   "id": "0cac39e1",
   "metadata": {},
   "outputs": [
    {
     "data": {
      "application/vnd.microsoft.datawrangler.viewer.v0+json": {
       "columns": [
        {
         "name": "producto",
         "rawType": "object",
         "type": "string"
        },
        {
         "name": "total_cantidad",
         "rawType": "int64",
         "type": "integer"
        },
        {
         "name": "total_facturado",
         "rawType": "int64",
         "type": "integer"
        }
       ],
       "ref": "631e47a3-7aa9-4538-b1d2-d78bdb1649f4",
       "rows": [
        [
         "Impresora",
         "50",
         "2089500"
        ],
        [
         "Monitor",
         "60",
         "2539400"
        ],
        [
         "Mouse",
         "42",
         "1879580"
        ],
        [
         "Notebook",
         "48",
         "2239520"
        ],
        [
         "Teclado",
         "69",
         "2489310"
        ]
       ],
       "shape": {
        "columns": 2,
        "rows": 5
       }
      },
      "text/html": [
       "<div>\n",
       "<style scoped>\n",
       "    .dataframe tbody tr th:only-of-type {\n",
       "        vertical-align: middle;\n",
       "    }\n",
       "\n",
       "    .dataframe tbody tr th {\n",
       "        vertical-align: top;\n",
       "    }\n",
       "\n",
       "    .dataframe thead th {\n",
       "        text-align: right;\n",
       "    }\n",
       "</style>\n",
       "<table border=\"1\" class=\"dataframe\">\n",
       "  <thead>\n",
       "    <tr style=\"text-align: right;\">\n",
       "      <th></th>\n",
       "      <th>total_cantidad</th>\n",
       "      <th>total_facturado</th>\n",
       "    </tr>\n",
       "    <tr>\n",
       "      <th>producto</th>\n",
       "      <th></th>\n",
       "      <th></th>\n",
       "    </tr>\n",
       "  </thead>\n",
       "  <tbody>\n",
       "    <tr>\n",
       "      <th>Impresora</th>\n",
       "      <td>50</td>\n",
       "      <td>2089500</td>\n",
       "    </tr>\n",
       "    <tr>\n",
       "      <th>Monitor</th>\n",
       "      <td>60</td>\n",
       "      <td>2539400</td>\n",
       "    </tr>\n",
       "    <tr>\n",
       "      <th>Mouse</th>\n",
       "      <td>42</td>\n",
       "      <td>1879580</td>\n",
       "    </tr>\n",
       "    <tr>\n",
       "      <th>Notebook</th>\n",
       "      <td>48</td>\n",
       "      <td>2239520</td>\n",
       "    </tr>\n",
       "    <tr>\n",
       "      <th>Teclado</th>\n",
       "      <td>69</td>\n",
       "      <td>2489310</td>\n",
       "    </tr>\n",
       "  </tbody>\n",
       "</table>\n",
       "</div>"
      ],
      "text/plain": [
       "           total_cantidad  total_facturado\n",
       "producto                                  \n",
       "Impresora              50          2089500\n",
       "Monitor                60          2539400\n",
       "Mouse                  42          1879580\n",
       "Notebook               48          2239520\n",
       "Teclado                69          2489310"
      ]
     },
     "execution_count": 21,
     "metadata": {},
     "output_type": "execute_result"
    }
   ],
   "source": [
    "reporte_productos = data_cleaned.groupby('producto').agg(total_cantidad=('cantidad', 'sum'), total_facturado=('total', 'sum'))\n",
    "reporte_productos"
   ]
  },
  {
   "cell_type": "code",
   "execution_count": 23,
   "id": "361fcb9f",
   "metadata": {},
   "outputs": [
    {
     "name": "stdout",
     "output_type": "stream",
     "text": [
      "Prueba exitosa: La tabla 'reporte_productos' se guardó exitosamente.\n",
      "   total_cantidad  total_facturado\n",
      "0              50          2089500\n",
      "1              60          2539400\n",
      "2              42          1879580\n",
      "3              48          2239520\n",
      "4              69          2489310\n"
     ]
    }
   ],
   "source": [
    "import sqlite3\n",
    "try:\n",
    "    # Creando conexión a la base de datos SQLite\n",
    "    conn = sqlite3.connect('output/db_test.db')\n",
    "    # Guardando el dataframe en la base de datos\n",
    "    reporte_productos.to_sql('reporte_productos', conn, if_exists='replace', index=False)\n",
    "    print(\"Prueba exitosa: La tabla 'reporte_productos' se guardó exitosamente.\")\n",
    "\n",
    "    # Verificando que los datos se guardaron correctamente\n",
    "    test_db = pd.read_sql('SELECT * FROM reporte_productos', conn)\n",
    "    print(test_db.head())\n",
    "    conn.close()\n",
    "\n",
    "except Exception as e:\n",
    "    print(f\"Ocurrió un error durante la prueba de base de datos: {e}\")"
   ]
  }
 ],
 "metadata": {
  "kernelspec": {
   "display_name": "desafio-ventas",
   "language": "python",
   "name": "python3"
  },
  "language_info": {
   "codemirror_mode": {
    "name": "ipython",
    "version": 3
   },
   "file_extension": ".py",
   "mimetype": "text/x-python",
   "name": "python",
   "nbconvert_exporter": "python",
   "pygments_lexer": "ipython3",
   "version": "3.11.13"
  }
 },
 "nbformat": 4,
 "nbformat_minor": 5
}
